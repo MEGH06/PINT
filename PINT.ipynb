{
  "nbformat": 4,
  "nbformat_minor": 0,
  "metadata": {
    "colab": {
      "provenance": [],
      "authorship_tag": "ABX9TyOp60OM2q9X59c3mkm9e7xH",
      "include_colab_link": true
    },
    "kernelspec": {
      "name": "python3",
      "display_name": "Python 3"
    },
    "language_info": {
      "name": "python"
    }
  },
  "cells": [
    {
      "cell_type": "markdown",
      "metadata": {
        "id": "view-in-github",
        "colab_type": "text"
      },
      "source": [
        "<a href=\"https://colab.research.google.com/github/MEGH06/PINT/blob/Timegan/PINT.ipynb\" target=\"_parent\"><img src=\"https://colab.research.google.com/assets/colab-badge.svg\" alt=\"Open In Colab\"/></a>"
      ]
    },
    {
      "cell_type": "code",
      "execution_count": null,
      "metadata": {
        "id": "JaHY4TqnmuEY"
      },
      "outputs": [],
      "source": [
        "import torch\n",
        "import torch.nn as nn\n",
        "import pandas as pd\n",
        "import matplotlib.pyplot as plt\n",
        "import numpy as np\n",
        "from torch.utils.data import Dataset, DataLoader\n",
        "device = torch.device('cuda' if torch.cuda.is_available() else 'cpu')"
      ]
    },
    {
      "cell_type": "code",
      "source": [
        "def preprocess_plants(row, window_size=60, stride=10, lai_scale=1000):\n",
        "    LAI = pd.to_numeric(row[1:1441]) * lai_scale\n",
        "    ETr = pd.to_numeric(row[1441:2881])\n",
        "    Tr = pd.to_numeric(row[2881:4321])\n",
        "\n",
        "    input_seqs=[]\n",
        "    target_seqs=[]\n",
        "\n",
        "    for start in range(0, len(LAI)-window_size +1 , stride):\n",
        "        end=start +window_size\n",
        "        X = np.stack([LAI[start:end], ETr[start:end]],axis=1)\n",
        "        Y=Tr[start:end]\n",
        "\n",
        "        input_seqs.append(X)\n",
        "        target_seqs.append(Y)\n",
        "\n",
        "    return input_seqs, target_seqs"
      ],
      "metadata": {
        "id": "knPAxAfqbYoT"
      },
      "execution_count": null,
      "outputs": []
    },
    {
      "cell_type": "code",
      "source": [
        "class PlantDataset(Dataset):\n",
        "    def __init__(self, csv_path, window_size=60, stride=10, lai_scale=1000):\n",
        "        self.df = pd.read_csv(csv_path).values\n",
        "        self.input_seqs = []\n",
        "        self.target_seqs = []\n",
        "\n",
        "        for row in self.df:\n",
        "            X, Y = preprocess_plants(row, window_size, stride, lai_scale)\n",
        "            X = [np.array(x, dtype=np.float32) for x in X]\n",
        "            Y = [np.array(y, dtype=np.float32) for y in Y]\n",
        "            self.input_seqs.extend(X)\n",
        "            self.target_seqs.extend(Y)\n",
        "\n",
        "        self.input_seqs = np.array(self.input_seqs, dtype=np.float32)\n",
        "        self.target_seqs = np.array(self.target_seqs, dtype=np.float32)\n",
        "\n",
        "    def __len__(self):\n",
        "        return len(self.input_seqs)\n",
        "\n",
        "    def __getitem__(self, idx):\n",
        "        X = torch.from_numpy(self.input_seqs[idx])\n",
        "        Y = torch.from_numpy(self.target_seqs[idx])\n",
        "        return X, Y\n"
      ],
      "metadata": {
        "id": "bEaYvNV1pOSu"
      },
      "execution_count": null,
      "outputs": []
    },
    {
      "cell_type": "code",
      "source": [
        "plant_paths = {\n",
        "    \"MZ\": \"/content/MZ_plants.csv\",\n",
        "    \"FM\": \"/content/FM_plants.csv\",\n",
        "    \"SG\": \"/content/SG_plants.csv\",\n",
        "    \"PM\": \"/content/PM_plants.csv\"\n",
        "}\n",
        "\n",
        "plant_data = {}\n",
        "for plant, path in plant_paths.items():\n",
        "    dataset = PlantDataset(path)\n",
        "    loader = DataLoader(dataset, batch_size=32, shuffle=True)\n",
        "    plant_data[plant] = loader\n"
      ],
      "metadata": {
        "id": "7beSjTkEH-aZ"
      },
      "execution_count": null,
      "outputs": []
    },
    {
      "cell_type": "code",
      "source": [
        "class PINT(nn.Module):\n",
        "  def __init__(self, input_dim=2, hidden_dim=64, num_layer=3):\n",
        "    super().__init__()\n",
        "    self.lstm=nn.LSTM(input_dim, hidden_dim, num_layer, batch_first=True)\n",
        "    self.fc=nn.Linear(hidden_dim,1)\n",
        "\n",
        "    self.beta_unconstrained=nn.Parameter(torch.tensor(0.4))\n",
        "\n",
        "  def forward(self,x):\n",
        "    lstm_out,_ =self.lstm(x)\n",
        "    out=self.fc(lstm_out).squeeze(-1)\n",
        "    return out\n",
        "\n",
        "  def beta_learn(self):\n",
        "    return 0.1+ 0.7* torch.sigmoid(self.beta_unconstrained)"
      ],
      "metadata": {
        "id": "49IkzPS-0IQy"
      },
      "execution_count": null,
      "outputs": []
    },
    {
      "cell_type": "code",
      "source": [
        "def phy_loss(Tr_pred,LAI,ETr,beta):\n",
        "  Tr_calc=(1-torch.exp(-beta*LAI))*ETr\n",
        "  loss=nn.MSELoss()(Tr_pred, Tr_calc)\n",
        "  return loss"
      ],
      "metadata": {
        "id": "QIW5qr82-hRR"
      },
      "execution_count": null,
      "outputs": []
    },
    {
      "cell_type": "code",
      "source": [
        "model = PINT(input_dim=2, hidden_dim=64, num_layer=3).to(device)\n",
        "optimizer = torch.optim.Adam(model.parameters(), lr=0.001)"
      ],
      "metadata": {
        "id": "vV3JpqtAq7Am"
      },
      "execution_count": 8,
      "outputs": []
    },
    {
      "cell_type": "code",
      "source": [
        "def training_st(model, optimizer, batch, lambda_bal= 1):\n",
        "  model.train()\n",
        "  X,Y =batch\n",
        "  X,Y=X.to(device), Y.to(device)\n",
        "\n",
        "  optimizer.zero_grad()\n",
        "  Tr_pred=model(X)\n",
        "  beta=model.beta_learn()\n",
        "\n",
        "  LAI=X[:, :,0]\n",
        "  ETr=X[:, :,1]\n",
        "\n",
        "  data_loss=nn.MSELoss()(Tr_pred, Y)\n",
        "  phys_loss=phy_loss(Tr_pred, LAI, ETr, beta)\n",
        "  total_loss=data_loss+lambda_bal* phys_loss\n",
        "\n",
        "  total_loss.backward()\n",
        "  optimizer.step()\n",
        "\n",
        "  return total_loss.item(), data_loss.item(), phys_loss.item(), beta.item()"
      ],
      "metadata": {
        "id": "QHW2EuV-DVAL"
      },
      "execution_count": 9,
      "outputs": []
    },
    {
      "cell_type": "code",
      "source": [
        "def train(model, optimizer, train_loader, num_epochs):\n",
        "    beta_log = []\n",
        "    loss_log = []\n",
        "\n",
        "    for epoch in range(num_epochs):\n",
        "        model.train()\n",
        "        total_loss = 0.0\n",
        "        total_data_loss = 0.0\n",
        "        total_phys_loss = 0.0\n",
        "\n",
        "        for batch in train_loader:\n",
        "            batch_loss, data_loss, phys_loss, beta_val = training_st(model, optimizer, batch)\n",
        "            total_loss += batch_loss\n",
        "            total_data_loss += data_loss\n",
        "            total_phys_loss += phys_loss\n",
        "\n",
        "        avg_loss = total_loss / len(train_loader)\n",
        "        avg_data_loss = total_data_loss / len(train_loader)\n",
        "        avg_phys_loss = total_phys_loss / len(train_loader)\n",
        "\n",
        "        beta_log.append(beta_val)\n",
        "        loss_log.append((avg_loss, avg_data_loss, avg_phys_loss))\n",
        "\n",
        "        print(f\"Epoch {epoch+1}/{num_epochs} | Loss: {avg_loss:.4f} | \"\n",
        "              f\"Data Loss: {avg_data_loss:.4f} | Phys Loss: {avg_phys_loss:.4f} | \"\n",
        "              f\"β: {beta_val:.4f}\")\n",
        "\n",
        "    return beta_log, loss_log"
      ],
      "metadata": {
        "id": "gexFL5g4FeE8"
      },
      "execution_count": 10,
      "outputs": []
    },
    {
      "cell_type": "code",
      "source": [
        "num_epochs = 50\n",
        "beta_history, loss_history = train(model, optimizer, plant_data['MZ'], num_epochs)"
      ],
      "metadata": {
        "id": "ViRc7ppyq3NI"
      },
      "execution_count": null,
      "outputs": []
    },
    {
      "cell_type": "code",
      "source": [
        "num_epochs = 50\n",
        "beta_history, loss_history = train(model, optimizer, plant_data['FM'], num_epochs)"
      ],
      "metadata": {
        "id": "v-EuWa-gtpJq"
      },
      "execution_count": null,
      "outputs": []
    },
    {
      "cell_type": "code",
      "source": [
        "num_epochs = 50\n",
        "beta_history, loss_history = train(model, optimizer, plant_data['PM'], num_epochs)"
      ],
      "metadata": {
        "id": "CqaDflDkt-Bj"
      },
      "execution_count": null,
      "outputs": []
    },
    {
      "cell_type": "code",
      "source": [
        "num_epochs = 50\n",
        "beta_history, loss_history = train(model, optimizer, plant_data['SG'], num_epochs)"
      ],
      "metadata": {
        "id": "OfL0kAdQvVAG"
      },
      "execution_count": null,
      "outputs": []
    },
    {
      "cell_type": "markdown",
      "source": [
        "#TimeGANs"
      ],
      "metadata": {
        "id": "90FiKlBYfeAo"
      }
    },
    {
      "cell_type": "code",
      "source": [
        "!pip install ydata-synthetic"
      ],
      "metadata": {
        "collapsed": true,
        "colab": {
          "base_uri": "https://localhost:8080/"
        },
        "id": "Ec24f_Hzfzdr",
        "outputId": "f94bbd6a-5e79-4ef6-9422-aa4f2235df8a"
      },
      "execution_count": 17,
      "outputs": [
        {
          "output_type": "stream",
          "name": "stdout",
          "text": [
            "Requirement already satisfied: ydata-synthetic in /usr/local/lib/python3.11/dist-packages (2.0.0)\n",
            "Requirement already satisfied: ydata-sdk in /usr/local/lib/python3.11/dist-packages (from ydata-synthetic) (3.0.8)\n",
            "Requirement already satisfied: adlfs==2024.12.0 in /usr/local/lib/python3.11/dist-packages (from ydata-sdk->ydata-synthetic) (2024.12.0)\n",
            "Requirement already satisfied: azure-common==1.1.28 in /usr/local/lib/python3.11/dist-packages (from ydata-sdk->ydata-synthetic) (1.1.28)\n",
            "Requirement already satisfied: azure-storage-blob==12.24.* in /usr/local/lib/python3.11/dist-packages (from ydata-sdk->ydata-synthetic) (12.24.1)\n",
            "Requirement already satisfied: azure-storage-file-datalake==12.18.* in /usr/local/lib/python3.11/dist-packages (from ydata-sdk->ydata-synthetic) (12.18.1)\n",
            "Requirement already satisfied: boto3==1.35.81 in /usr/local/lib/python3.11/dist-packages (from ydata-sdk->ydata-synthetic) (1.35.81)\n",
            "Requirement already satisfied: s3fs==2024.12.0 in /usr/local/lib/python3.11/dist-packages (from ydata-sdk->ydata-synthetic) (2024.12.0)\n",
            "Requirement already satisfied: gcsfs==2024.12.* in /usr/local/lib/python3.11/dist-packages (from ydata-sdk->ydata-synthetic) (2024.12.0)\n",
            "Requirement already satisfied: fs_gcsfs==1.5.1 in /usr/local/lib/python3.11/dist-packages (from ydata-sdk->ydata-synthetic) (1.5.1)\n",
            "Requirement already satisfied: google-cloud-bigquery-storage==2.27.0 in /usr/local/lib/python3.11/dist-packages (from ydata-sdk->ydata-synthetic) (2.27.0)\n",
            "Requirement already satisfied: google-cloud-storage==2.19.0 in /usr/local/lib/python3.11/dist-packages (from ydata-sdk->ydata-synthetic) (2.19.0)\n",
            "Requirement already satisfied: pandas_gbq==0.26.* in /usr/local/lib/python3.11/dist-packages (from ydata-sdk->ydata-synthetic) (0.26.1)\n",
            "Requirement already satisfied: mysql-connector-python==9.1.0 in /usr/local/lib/python3.11/dist-packages (from ydata-sdk->ydata-synthetic) (9.1.0)\n",
            "Requirement already satisfied: openpyxl==3.1.* in /usr/local/lib/python3.11/dist-packages (from ydata-sdk->ydata-synthetic) (3.1.5)\n",
            "Requirement already satisfied: sqlparse==0.5.* in /usr/local/lib/python3.11/dist-packages (from ydata-sdk->ydata-synthetic) (0.5.3)\n",
            "Requirement already satisfied: SQLAlchemy==2.0.37 in /usr/local/lib/python3.11/dist-packages (from ydata-sdk->ydata-synthetic) (2.0.37)\n",
            "Requirement already satisfied: pyodbc==5.2.0 in /usr/local/lib/python3.11/dist-packages (from ydata-sdk->ydata-synthetic) (5.2.0)\n",
            "Requirement already satisfied: pymysql==1.1.1 in /usr/local/lib/python3.11/dist-packages (from ydata-sdk->ydata-synthetic) (1.1.1)\n",
            "Requirement already satisfied: psycopg2==2.9.* in /usr/local/lib/python3.11/dist-packages (from ydata-sdk->ydata-synthetic) (2.9.10)\n",
            "Requirement already satisfied: snowflake-sqlalchemy<2 in /usr/local/lib/python3.11/dist-packages (from ydata-sdk->ydata-synthetic) (1.7.6)\n",
            "Requirement already satisfied: snowflake-connector-python<4.0.0 in /usr/local/lib/python3.11/dist-packages (from ydata-sdk->ydata-synthetic) (3.16.0)\n",
            "Requirement already satisfied: pyarrow>=12 in /usr/local/lib/python3.11/dist-packages (from ydata-sdk->ydata-synthetic) (18.1.0)\n",
            "Requirement already satisfied: uuid==1.30 in /usr/local/lib/python3.11/dist-packages (from ydata-sdk->ydata-synthetic) (1.30)\n",
            "Requirement already satisfied: delta-sharing==1.3.1 in /usr/local/lib/python3.11/dist-packages (from ydata-sdk->ydata-synthetic) (1.3.1)\n",
            "Requirement already satisfied: databricks-sdk==0.41.0 in /usr/local/lib/python3.11/dist-packages (from ydata-sdk->ydata-synthetic) (0.41.0)\n",
            "Requirement already satisfied: databricks-sql-connector[sqlalchemy] in /usr/local/lib/python3.11/dist-packages (from ydata-sdk->ydata-synthetic) (4.0.5)\n",
            "Requirement already satisfied: ydata-profiling>4.16.0 in /usr/local/lib/python3.11/dist-packages (from ydata-sdk->ydata-synthetic) (4.16.1)\n",
            "Requirement already satisfied: visions<0.8.0,>=0.7.5 in /usr/local/lib/python3.11/dist-packages (from visions[type_image_path]<0.8.0,>=0.7.5->ydata-sdk->ydata-synthetic) (0.7.6)\n",
            "Requirement already satisfied: ipywidgets<9.0.0,>=8.0.0 in /usr/local/lib/python3.11/dist-packages (from ydata-sdk->ydata-synthetic) (8.1.7)\n",
            "Requirement already satisfied: dacite>=1.8.0 in /usr/local/lib/python3.11/dist-packages (from ydata-sdk->ydata-synthetic) (1.9.2)\n",
            "Requirement already satisfied: datasketch==1.6.* in /usr/local/lib/python3.11/dist-packages (from ydata-sdk->ydata-synthetic) (1.6.5)\n",
            "Requirement already satisfied: fuzzywuzzy==0.18.* in /usr/local/lib/python3.11/dist-packages (from ydata-sdk->ydata-synthetic) (0.18.0)\n",
            "Requirement already satisfied: python-Levenshtein==0.27.* in /usr/local/lib/python3.11/dist-packages (from ydata-sdk->ydata-synthetic) (0.27.1)\n",
            "Requirement already satisfied: miceforest>=5.6.3 in /usr/local/lib/python3.11/dist-packages (from ydata-sdk->ydata-synthetic) (6.0.3)\n",
            "Requirement already satisfied: pyod>=2.0.0 in /usr/local/lib/python3.11/dist-packages (from ydata-sdk->ydata-synthetic) (2.0.5)\n",
            "Requirement already satisfied: hdbscan==0.8.40 in /usr/local/lib/python3.11/dist-packages (from ydata-sdk->ydata-synthetic) (0.8.40)\n",
            "Requirement already satisfied: weasyprint<65,>=58.0 in /usr/local/lib/python3.11/dist-packages (from ydata-sdk->ydata-synthetic) (64.1)\n",
            "Requirement already satisfied: pdf_reports>=0.3.5 in /usr/local/lib/python3.11/dist-packages (from ydata-sdk->ydata-synthetic) (0.3.9)\n",
            "Requirement already satisfied: libsass>=0.22.0 in /usr/local/lib/python3.11/dist-packages (from ydata-sdk->ydata-synthetic) (0.23.0)\n",
            "Requirement already satisfied: ydata-datascience>=0.7.0 in /usr/local/lib/python3.11/dist-packages (from ydata-sdk->ydata-synthetic) (0.7.0)\n",
            "Requirement already satisfied: statsmodels==0.14.4 in /usr/local/lib/python3.11/dist-packages (from ydata-sdk->ydata-synthetic) (0.14.4)\n",
            "Requirement already satisfied: exrex==0.12.0 in /usr/local/lib/python3.11/dist-packages (from ydata-sdk->ydata-synthetic) (0.12.0)\n",
            "Requirement already satisfied: faker==33.3.1 in /usr/local/lib/python3.11/dist-packages (from ydata-sdk->ydata-synthetic) (33.3.1)\n",
            "Requirement already satisfied: dask==2024.12.1 in /usr/local/lib/python3.11/dist-packages (from ydata-sdk->ydata-synthetic) (2024.12.1)\n",
            "Requirement already satisfied: distributed==2024.12.1 in /usr/local/lib/python3.11/dist-packages (from ydata-sdk->ydata-synthetic) (2024.12.1)\n",
            "Requirement already satisfied: dask-gateway==2024.1.0 in /usr/local/lib/python3.11/dist-packages (from ydata-sdk->ydata-synthetic) (2024.1.0)\n",
            "Requirement already satisfied: ydata-core>=0.7.0 in /usr/local/lib/python3.11/dist-packages (from ydata-sdk->ydata-synthetic) (0.7.0)\n",
            "Requirement already satisfied: pandas<2.4 in /usr/local/lib/python3.11/dist-packages (from ydata-sdk->ydata-synthetic) (2.2.2)\n",
            "Requirement already satisfied: numpy<2.5.0,>=1.26.0 in /usr/local/lib/python3.11/dist-packages (from ydata-sdk->ydata-synthetic) (2.0.2)\n",
            "Requirement already satisfied: scipy>=1.9.0 in /usr/local/lib/python3.11/dist-packages (from ydata-sdk->ydata-synthetic) (1.15.3)\n",
            "Requirement already satisfied: scikit-learn==1.6.* in /usr/local/lib/python3.11/dist-packages (from ydata-sdk->ydata-synthetic) (1.6.1)\n",
            "Requirement already satisfied: tqdm<4.65,>=4.48 in /usr/local/lib/python3.11/dist-packages (from ydata-sdk->ydata-synthetic) (4.64.1)\n",
            "Requirement already satisfied: typeguard<5 in /usr/local/lib/python3.11/dist-packages (from ydata-sdk->ydata-synthetic) (4.4.4)\n",
            "Requirement already satisfied: pydantic<3 in /usr/local/lib/python3.11/dist-packages (from ydata-sdk->ydata-synthetic) (2.11.7)\n",
            "Requirement already satisfied: dill==0.3.* in /usr/local/lib/python3.11/dist-packages (from ydata-sdk->ydata-synthetic) (0.3.8)\n",
            "Requirement already satisfied: networkx>=3.0.0 in /usr/local/lib/python3.11/dist-packages (from ydata-sdk->ydata-synthetic) (3.5)\n",
            "Requirement already satisfied: seaborn==0.13.* in /usr/local/lib/python3.11/dist-packages (from ydata-sdk->ydata-synthetic) (0.13.2)\n",
            "Requirement already satisfied: psutil==6.1.* in /usr/local/lib/python3.11/dist-packages (from ydata-sdk->ydata-synthetic) (6.1.1)\n",
            "Requirement already satisfied: presidio_analyzer==2.2.* in /usr/local/lib/python3.11/dist-packages (from ydata-sdk->ydata-synthetic) (2.2.359)\n",
            "Requirement already satisfied: azure-core<2.0.0,>=1.28.0 in /usr/local/lib/python3.11/dist-packages (from adlfs==2024.12.0->ydata-sdk->ydata-synthetic) (1.35.0)\n",
            "Requirement already satisfied: azure-datalake-store<0.1,>=0.0.53 in /usr/local/lib/python3.11/dist-packages (from adlfs==2024.12.0->ydata-sdk->ydata-synthetic) (0.0.53)\n",
            "Requirement already satisfied: azure-identity in /usr/local/lib/python3.11/dist-packages (from adlfs==2024.12.0->ydata-sdk->ydata-synthetic) (1.23.1)\n",
            "Requirement already satisfied: fsspec>=2023.12.0 in /usr/local/lib/python3.11/dist-packages (from adlfs==2024.12.0->ydata-sdk->ydata-synthetic) (2024.12.0)\n",
            "Requirement already satisfied: aiohttp>=3.7.0 in /usr/local/lib/python3.11/dist-packages (from adlfs==2024.12.0->ydata-sdk->ydata-synthetic) (3.12.14)\n",
            "Requirement already satisfied: cryptography>=2.1.4 in /usr/local/lib/python3.11/dist-packages (from azure-storage-blob==12.24.*->ydata-sdk->ydata-synthetic) (43.0.3)\n",
            "Requirement already satisfied: typing-extensions>=4.6.0 in /usr/local/lib/python3.11/dist-packages (from azure-storage-blob==12.24.*->ydata-sdk->ydata-synthetic) (4.14.1)\n",
            "Requirement already satisfied: isodate>=0.6.1 in /usr/local/lib/python3.11/dist-packages (from azure-storage-blob==12.24.*->ydata-sdk->ydata-synthetic) (0.7.2)\n",
            "Requirement already satisfied: botocore<1.36.0,>=1.35.81 in /usr/local/lib/python3.11/dist-packages (from boto3==1.35.81->ydata-sdk->ydata-synthetic) (1.35.93)\n",
            "Requirement already satisfied: jmespath<2.0.0,>=0.7.1 in /usr/local/lib/python3.11/dist-packages (from boto3==1.35.81->ydata-sdk->ydata-synthetic) (1.0.1)\n",
            "Requirement already satisfied: s3transfer<0.11.0,>=0.10.0 in /usr/local/lib/python3.11/dist-packages (from boto3==1.35.81->ydata-sdk->ydata-synthetic) (0.10.4)\n",
            "Requirement already satisfied: click>=8.1 in /usr/local/lib/python3.11/dist-packages (from dask==2024.12.1->ydata-sdk->ydata-synthetic) (8.2.1)\n",
            "Requirement already satisfied: cloudpickle>=3.0.0 in /usr/local/lib/python3.11/dist-packages (from dask==2024.12.1->ydata-sdk->ydata-synthetic) (3.1.1)\n",
            "Requirement already satisfied: packaging>=20.0 in /usr/local/lib/python3.11/dist-packages (from dask==2024.12.1->ydata-sdk->ydata-synthetic) (25.0)\n",
            "Requirement already satisfied: partd>=1.4.0 in /usr/local/lib/python3.11/dist-packages (from dask==2024.12.1->ydata-sdk->ydata-synthetic) (1.4.2)\n",
            "Requirement already satisfied: pyyaml>=5.3.1 in /usr/local/lib/python3.11/dist-packages (from dask==2024.12.1->ydata-sdk->ydata-synthetic) (6.0.2)\n",
            "Requirement already satisfied: toolz>=0.10.0 in /usr/local/lib/python3.11/dist-packages (from dask==2024.12.1->ydata-sdk->ydata-synthetic) (0.12.1)\n",
            "Requirement already satisfied: importlib_metadata>=4.13.0 in /usr/local/lib/python3.11/dist-packages (from dask==2024.12.1->ydata-sdk->ydata-synthetic) (8.7.0)\n",
            "Requirement already satisfied: tornado in /usr/local/lib/python3.11/dist-packages (from dask-gateway==2024.1.0->ydata-sdk->ydata-synthetic) (6.4.2)\n",
            "Requirement already satisfied: google-auth~=2.0 in /usr/local/lib/python3.11/dist-packages (from databricks-sdk==0.41.0->ydata-sdk->ydata-synthetic) (2.38.0)\n",
            "Requirement already satisfied: requests<3,>=2.28.1 in /usr/local/lib/python3.11/dist-packages (from databricks-sdk==0.41.0->ydata-sdk->ydata-synthetic) (2.32.3)\n",
            "Requirement already satisfied: delta-kernel-rust-sharing-wrapper>=0.2.0 in /usr/local/lib/python3.11/dist-packages (from delta-sharing==1.3.1->ydata-sdk->ydata-synthetic) (0.2.2)\n",
            "Requirement already satisfied: yarl>=1.6.0 in /usr/local/lib/python3.11/dist-packages (from delta-sharing==1.3.1->ydata-sdk->ydata-synthetic) (1.20.1)\n",
            "Requirement already satisfied: jinja2>=2.10.3 in /usr/local/lib/python3.11/dist-packages (from distributed==2024.12.1->ydata-sdk->ydata-synthetic) (3.1.6)\n",
            "Requirement already satisfied: locket>=1.0.0 in /usr/local/lib/python3.11/dist-packages (from distributed==2024.12.1->ydata-sdk->ydata-synthetic) (1.0.0)\n",
            "Requirement already satisfied: msgpack>=1.0.2 in /usr/local/lib/python3.11/dist-packages (from distributed==2024.12.1->ydata-sdk->ydata-synthetic) (1.1.1)\n",
            "Requirement already satisfied: sortedcontainers>=2.0.5 in /usr/local/lib/python3.11/dist-packages (from distributed==2024.12.1->ydata-sdk->ydata-synthetic) (2.4.0)\n",
            "Requirement already satisfied: tblib>=1.6.0 in /usr/local/lib/python3.11/dist-packages (from distributed==2024.12.1->ydata-sdk->ydata-synthetic) (3.1.0)\n",
            "Requirement already satisfied: urllib3>=1.26.5 in /usr/local/lib/python3.11/dist-packages (from distributed==2024.12.1->ydata-sdk->ydata-synthetic) (1.26.20)\n",
            "Requirement already satisfied: zict>=3.0.0 in /usr/local/lib/python3.11/dist-packages (from distributed==2024.12.1->ydata-sdk->ydata-synthetic) (3.0.0)\n",
            "Requirement already satisfied: python-dateutil>=2.4 in /usr/local/lib/python3.11/dist-packages (from faker==33.3.1->ydata-sdk->ydata-synthetic) (2.9.0.post0)\n",
            "Requirement already satisfied: fs~=2.2 in /usr/local/lib/python3.11/dist-packages (from fs_gcsfs==1.5.1->ydata-sdk->ydata-synthetic) (2.4.16)\n",
            "Requirement already satisfied: decorator>4.1.2 in /usr/local/lib/python3.11/dist-packages (from gcsfs==2024.12.*->ydata-sdk->ydata-synthetic) (4.4.2)\n",
            "Requirement already satisfied: google-auth-oauthlib in /usr/local/lib/python3.11/dist-packages (from gcsfs==2024.12.*->ydata-sdk->ydata-synthetic) (1.2.2)\n",
            "Requirement already satisfied: google-api-core!=2.0.*,!=2.1.*,!=2.10.*,!=2.2.*,!=2.3.*,!=2.4.*,!=2.5.*,!=2.6.*,!=2.7.*,!=2.8.*,!=2.9.*,<3.0.0dev,>=1.34.0 in /usr/local/lib/python3.11/dist-packages (from google-api-core[grpc]!=2.0.*,!=2.1.*,!=2.10.*,!=2.2.*,!=2.3.*,!=2.4.*,!=2.5.*,!=2.6.*,!=2.7.*,!=2.8.*,!=2.9.*,<3.0.0dev,>=1.34.0->google-cloud-bigquery-storage==2.27.0->ydata-sdk->ydata-synthetic) (2.25.1)\n",
            "Requirement already satisfied: proto-plus<2.0.0dev,>=1.22.0 in /usr/local/lib/python3.11/dist-packages (from google-cloud-bigquery-storage==2.27.0->ydata-sdk->ydata-synthetic) (1.26.1)\n",
            "Requirement already satisfied: protobuf!=3.20.0,!=3.20.1,!=4.21.0,!=4.21.1,!=4.21.2,!=4.21.3,!=4.21.4,!=4.21.5,<6.0.0dev,>=3.20.2 in /usr/local/lib/python3.11/dist-packages (from google-cloud-bigquery-storage==2.27.0->ydata-sdk->ydata-synthetic) (5.29.5)\n",
            "Requirement already satisfied: google-cloud-core<3.0dev,>=2.3.0 in /usr/local/lib/python3.11/dist-packages (from google-cloud-storage==2.19.0->ydata-sdk->ydata-synthetic) (2.4.3)\n",
            "Requirement already satisfied: google-resumable-media>=2.7.2 in /usr/local/lib/python3.11/dist-packages (from google-cloud-storage==2.19.0->ydata-sdk->ydata-synthetic) (2.7.2)\n",
            "Requirement already satisfied: google-crc32c<2.0dev,>=1.0 in /usr/local/lib/python3.11/dist-packages (from google-cloud-storage==2.19.0->ydata-sdk->ydata-synthetic) (1.7.1)\n",
            "Requirement already satisfied: joblib>=1.0 in /usr/local/lib/python3.11/dist-packages (from hdbscan==0.8.40->ydata-sdk->ydata-synthetic) (1.5.1)\n",
            "Requirement already satisfied: et-xmlfile in /usr/local/lib/python3.11/dist-packages (from openpyxl==3.1.*->ydata-sdk->ydata-synthetic) (2.0.0)\n",
            "Requirement already satisfied: setuptools in /usr/local/lib/python3.11/dist-packages (from pandas_gbq==0.26.*->ydata-sdk->ydata-synthetic) (75.2.0)\n",
            "Requirement already satisfied: db-dtypes<2.0.0,>=1.0.4 in /usr/local/lib/python3.11/dist-packages (from pandas_gbq==0.26.*->ydata-sdk->ydata-synthetic) (1.4.3)\n",
            "Requirement already satisfied: pydata-google-auth>=1.5.0 in /usr/local/lib/python3.11/dist-packages (from pandas_gbq==0.26.*->ydata-sdk->ydata-synthetic) (1.9.1)\n",
            "Requirement already satisfied: google-cloud-bigquery<4.0.0dev,>=3.4.2 in /usr/local/lib/python3.11/dist-packages (from pandas_gbq==0.26.*->ydata-sdk->ydata-synthetic) (3.35.1)\n",
            "Requirement already satisfied: phonenumbers<10.0.0,>=8.12 in /usr/local/lib/python3.11/dist-packages (from presidio_analyzer==2.2.*->ydata-sdk->ydata-synthetic) (9.0.10)\n",
            "Requirement already satisfied: regex in /usr/local/lib/python3.11/dist-packages (from presidio_analyzer==2.2.*->ydata-sdk->ydata-synthetic) (2024.11.6)\n",
            "Requirement already satisfied: spacy!=3.7.0,<4.0.0,>=3.4.4 in /usr/local/lib/python3.11/dist-packages (from presidio_analyzer==2.2.*->ydata-sdk->ydata-synthetic) (3.8.7)\n",
            "Requirement already satisfied: tldextract in /usr/local/lib/python3.11/dist-packages (from presidio_analyzer==2.2.*->ydata-sdk->ydata-synthetic) (5.3.0)\n",
            "Requirement already satisfied: Levenshtein==0.27.1 in /usr/local/lib/python3.11/dist-packages (from python-Levenshtein==0.27.*->ydata-sdk->ydata-synthetic) (0.27.1)\n",
            "Requirement already satisfied: aiobotocore<3.0.0,>=2.5.4 in /usr/local/lib/python3.11/dist-packages (from s3fs==2024.12.0->ydata-sdk->ydata-synthetic) (2.17.0)\n",
            "Requirement already satisfied: threadpoolctl>=3.1.0 in /usr/local/lib/python3.11/dist-packages (from scikit-learn==1.6.*->ydata-sdk->ydata-synthetic) (3.6.0)\n",
            "Requirement already satisfied: matplotlib!=3.6.1,>=3.4 in /usr/local/lib/python3.11/dist-packages (from seaborn==0.13.*->ydata-sdk->ydata-synthetic) (3.10.0)\n",
            "Requirement already satisfied: greenlet!=0.4.17 in /usr/local/lib/python3.11/dist-packages (from SQLAlchemy==2.0.37->ydata-sdk->ydata-synthetic) (3.2.3)\n",
            "Requirement already satisfied: patsy>=0.5.6 in /usr/local/lib/python3.11/dist-packages (from statsmodels==0.14.4->ydata-sdk->ydata-synthetic) (1.0.1)\n",
            "Requirement already satisfied: rapidfuzz<4.0.0,>=3.9.0 in /usr/local/lib/python3.11/dist-packages (from Levenshtein==0.27.1->python-Levenshtein==0.27.*->ydata-sdk->ydata-synthetic) (3.13.0)\n",
            "Requirement already satisfied: comm>=0.1.3 in /usr/local/lib/python3.11/dist-packages (from ipywidgets<9.0.0,>=8.0.0->ydata-sdk->ydata-synthetic) (0.2.3)\n",
            "Requirement already satisfied: ipython>=6.1.0 in /usr/local/lib/python3.11/dist-packages (from ipywidgets<9.0.0,>=8.0.0->ydata-sdk->ydata-synthetic) (7.34.0)\n",
            "Requirement already satisfied: traitlets>=4.3.1 in /usr/local/lib/python3.11/dist-packages (from ipywidgets<9.0.0,>=8.0.0->ydata-sdk->ydata-synthetic) (5.7.1)\n",
            "Requirement already satisfied: widgetsnbextension~=4.0.14 in /usr/local/lib/python3.11/dist-packages (from ipywidgets<9.0.0,>=8.0.0->ydata-sdk->ydata-synthetic) (4.0.14)\n",
            "Requirement already satisfied: jupyterlab_widgets~=3.0.15 in /usr/local/lib/python3.11/dist-packages (from ipywidgets<9.0.0,>=8.0.0->ydata-sdk->ydata-synthetic) (3.0.15)\n",
            "Requirement already satisfied: lightgbm>=4.1.0 in /usr/local/lib/python3.11/dist-packages (from miceforest>=5.6.3->ydata-sdk->ydata-synthetic) (4.6.0)\n",
            "Requirement already satisfied: pytz>=2020.1 in /usr/local/lib/python3.11/dist-packages (from pandas<2.4->ydata-sdk->ydata-synthetic) (2025.2)\n",
            "Requirement already satisfied: tzdata>=2022.7 in /usr/local/lib/python3.11/dist-packages (from pandas<2.4->ydata-sdk->ydata-synthetic) (2025.2)\n",
            "Requirement already satisfied: pypugjs in /usr/local/lib/python3.11/dist-packages (from pdf_reports>=0.3.5->ydata-sdk->ydata-synthetic) (5.12.0)\n",
            "Requirement already satisfied: beautifulsoup4 in /usr/local/lib/python3.11/dist-packages (from pdf_reports>=0.3.5->ydata-sdk->ydata-synthetic) (4.13.4)\n",
            "Requirement already satisfied: Markdown in /usr/local/lib/python3.11/dist-packages (from pdf_reports>=0.3.5->ydata-sdk->ydata-synthetic) (3.8.2)\n",
            "Requirement already satisfied: backports.functools-lru-cache in /usr/local/lib/python3.11/dist-packages (from pdf_reports>=0.3.5->ydata-sdk->ydata-synthetic) (2.0.0)\n",
            "Requirement already satisfied: annotated-types>=0.6.0 in /usr/local/lib/python3.11/dist-packages (from pydantic<3->ydata-sdk->ydata-synthetic) (0.7.0)\n",
            "Requirement already satisfied: pydantic-core==2.33.2 in /usr/local/lib/python3.11/dist-packages (from pydantic<3->ydata-sdk->ydata-synthetic) (2.33.2)\n",
            "Requirement already satisfied: typing-inspection>=0.4.0 in /usr/local/lib/python3.11/dist-packages (from pydantic<3->ydata-sdk->ydata-synthetic) (0.4.1)\n",
            "Requirement already satisfied: numba>=0.51 in /usr/local/lib/python3.11/dist-packages (from pyod>=2.0.0->ydata-sdk->ydata-synthetic) (0.60.0)\n",
            "Requirement already satisfied: asn1crypto<2.0.0,>0.24.0 in /usr/local/lib/python3.11/dist-packages (from snowflake-connector-python<4.0.0->ydata-sdk->ydata-synthetic) (1.5.1)\n",
            "Requirement already satisfied: cffi<2.0.0,>=1.9 in /usr/local/lib/python3.11/dist-packages (from snowflake-connector-python<4.0.0->ydata-sdk->ydata-synthetic) (1.17.1)\n",
            "Requirement already satisfied: pyOpenSSL<26.0.0,>=22.0.0 in /usr/local/lib/python3.11/dist-packages (from snowflake-connector-python<4.0.0->ydata-sdk->ydata-synthetic) (24.2.1)\n",
            "Requirement already satisfied: pyjwt<3.0.0 in /usr/local/lib/python3.11/dist-packages (from snowflake-connector-python<4.0.0->ydata-sdk->ydata-synthetic) (2.10.1)\n",
            "Requirement already satisfied: charset_normalizer<4,>=2 in /usr/local/lib/python3.11/dist-packages (from snowflake-connector-python<4.0.0->ydata-sdk->ydata-synthetic) (3.4.2)\n",
            "Requirement already satisfied: idna<4,>=2.5 in /usr/local/lib/python3.11/dist-packages (from snowflake-connector-python<4.0.0->ydata-sdk->ydata-synthetic) (3.10)\n",
            "Requirement already satisfied: certifi>=2017.4.17 in /usr/local/lib/python3.11/dist-packages (from snowflake-connector-python<4.0.0->ydata-sdk->ydata-synthetic) (2025.7.14)\n",
            "Requirement already satisfied: filelock<4,>=3.5 in /usr/local/lib/python3.11/dist-packages (from snowflake-connector-python<4.0.0->ydata-sdk->ydata-synthetic) (3.18.0)\n",
            "Requirement already satisfied: platformdirs<5.0.0,>=2.6.0 in /usr/local/lib/python3.11/dist-packages (from snowflake-connector-python<4.0.0->ydata-sdk->ydata-synthetic) (4.3.8)\n",
            "Requirement already satisfied: tomlkit in /usr/local/lib/python3.11/dist-packages (from snowflake-connector-python<4.0.0->ydata-sdk->ydata-synthetic) (0.13.3)\n",
            "Requirement already satisfied: attrs>=19.3.0 in /usr/local/lib/python3.11/dist-packages (from visions<0.8.0,>=0.7.5->visions[type_image_path]<0.8.0,>=0.7.5->ydata-sdk->ydata-synthetic) (25.3.0)\n",
            "Requirement already satisfied: multimethod>=1.4 in /usr/local/lib/python3.11/dist-packages (from visions<0.8.0,>=0.7.5->visions[type_image_path]<0.8.0,>=0.7.5->ydata-sdk->ydata-synthetic) (1.12)\n",
            "Requirement already satisfied: imagehash in /usr/local/lib/python3.11/dist-packages (from visions[type_image_path]<0.8.0,>=0.7.5->ydata-sdk->ydata-synthetic) (4.3.1)\n",
            "Requirement already satisfied: Pillow in /usr/local/lib/python3.11/dist-packages (from visions[type_image_path]<0.8.0,>=0.7.5->ydata-sdk->ydata-synthetic) (11.3.0)\n",
            "Requirement already satisfied: pydyf>=0.11.0 in /usr/local/lib/python3.11/dist-packages (from weasyprint<65,>=58.0->ydata-sdk->ydata-synthetic) (0.11.0)\n",
            "Requirement already satisfied: tinyhtml5>=2.0.0b1 in /usr/local/lib/python3.11/dist-packages (from weasyprint<65,>=58.0->ydata-sdk->ydata-synthetic) (2.0.0)\n",
            "Requirement already satisfied: tinycss2>=1.4.0 in /usr/local/lib/python3.11/dist-packages (from weasyprint<65,>=58.0->ydata-sdk->ydata-synthetic) (1.4.0)\n",
            "Requirement already satisfied: cssselect2>=0.1 in /usr/local/lib/python3.11/dist-packages (from weasyprint<65,>=58.0->ydata-sdk->ydata-synthetic) (0.8.0)\n",
            "Requirement already satisfied: Pyphen>=0.9.1 in /usr/local/lib/python3.11/dist-packages (from weasyprint<65,>=58.0->ydata-sdk->ydata-synthetic) (0.17.2)\n",
            "Requirement already satisfied: fonttools>=4.0.0 in /usr/local/lib/python3.11/dist-packages (from fonttools[woff]>=4.0.0->weasyprint<65,>=58.0->ydata-sdk->ydata-synthetic) (4.59.0)\n",
            "Requirement already satisfied: htmlmin==0.1.12 in /usr/local/lib/python3.11/dist-packages (from ydata-profiling>4.16.0->ydata-sdk->ydata-synthetic) (0.1.12)\n",
            "Requirement already satisfied: phik<0.13,>=0.11.1 in /usr/local/lib/python3.11/dist-packages (from ydata-profiling>4.16.0->ydata-sdk->ydata-synthetic) (0.12.5)\n",
            "Requirement already satisfied: wordcloud>=1.9.3 in /usr/local/lib/python3.11/dist-packages (from ydata-profiling>4.16.0->ydata-sdk->ydata-synthetic) (1.9.4)\n",
            "Requirement already satisfied: PyWavelets in /usr/local/lib/python3.11/dist-packages (from imagehash->visions[type_image_path]<0.8.0,>=0.7.5->ydata-sdk->ydata-synthetic) (1.8.0)\n",
            "\u001b[33mWARNING: databricks-sql-connector 4.0.5 does not provide the extra 'sqlalchemy'\u001b[0m\u001b[33m\n",
            "\u001b[0mRequirement already satisfied: lz4<5.0.0,>=4.0.2 in /usr/local/lib/python3.11/dist-packages (from databricks-sql-connector[sqlalchemy]->ydata-sdk->ydata-synthetic) (4.4.4)\n",
            "Requirement already satisfied: oauthlib<4.0.0,>=3.1.0 in /usr/local/lib/python3.11/dist-packages (from databricks-sql-connector[sqlalchemy]->ydata-sdk->ydata-synthetic) (3.3.1)\n",
            "Requirement already satisfied: thrift<0.21.0,>=0.16.0 in /usr/local/lib/python3.11/dist-packages (from databricks-sql-connector[sqlalchemy]->ydata-sdk->ydata-synthetic) (0.20.0)\n",
            "Requirement already satisfied: aioitertools<1.0.0,>=0.5.1 in /usr/local/lib/python3.11/dist-packages (from aiobotocore<3.0.0,>=2.5.4->s3fs==2024.12.0->ydata-sdk->ydata-synthetic) (0.12.0)\n",
            "Requirement already satisfied: multidict<7.0.0,>=6.0.0 in /usr/local/lib/python3.11/dist-packages (from aiobotocore<3.0.0,>=2.5.4->s3fs==2024.12.0->ydata-sdk->ydata-synthetic) (6.6.3)\n",
            "Requirement already satisfied: wrapt<2.0.0,>=1.10.10 in /usr/local/lib/python3.11/dist-packages (from aiobotocore<3.0.0,>=2.5.4->s3fs==2024.12.0->ydata-sdk->ydata-synthetic) (1.17.2)\n",
            "Requirement already satisfied: aiohappyeyeballs>=2.5.0 in /usr/local/lib/python3.11/dist-packages (from aiohttp>=3.7.0->adlfs==2024.12.0->ydata-sdk->ydata-synthetic) (2.6.1)\n",
            "Requirement already satisfied: aiosignal>=1.4.0 in /usr/local/lib/python3.11/dist-packages (from aiohttp>=3.7.0->adlfs==2024.12.0->ydata-sdk->ydata-synthetic) (1.4.0)\n",
            "Requirement already satisfied: frozenlist>=1.1.1 in /usr/local/lib/python3.11/dist-packages (from aiohttp>=3.7.0->adlfs==2024.12.0->ydata-sdk->ydata-synthetic) (1.7.0)\n",
            "Requirement already satisfied: propcache>=0.2.0 in /usr/local/lib/python3.11/dist-packages (from aiohttp>=3.7.0->adlfs==2024.12.0->ydata-sdk->ydata-synthetic) (0.3.2)\n",
            "Requirement already satisfied: six>=1.11.0 in /usr/local/lib/python3.11/dist-packages (from azure-core<2.0.0,>=1.28.0->adlfs==2024.12.0->ydata-sdk->ydata-synthetic) (1.17.0)\n",
            "Requirement already satisfied: msal<2,>=1.16.0 in /usr/local/lib/python3.11/dist-packages (from azure-datalake-store<0.1,>=0.0.53->adlfs==2024.12.0->ydata-sdk->ydata-synthetic) (1.33.0)\n",
            "Requirement already satisfied: pycparser in /usr/local/lib/python3.11/dist-packages (from cffi<2.0.0,>=1.9->snowflake-connector-python<4.0.0->ydata-sdk->ydata-synthetic) (2.22)\n",
            "Requirement already satisfied: webencodings in /usr/local/lib/python3.11/dist-packages (from cssselect2>=0.1->weasyprint<65,>=58.0->ydata-sdk->ydata-synthetic) (0.5.1)\n",
            "Requirement already satisfied: brotli>=1.0.1 in /usr/local/lib/python3.11/dist-packages (from fonttools[woff]>=4.0.0->weasyprint<65,>=58.0->ydata-sdk->ydata-synthetic) (1.1.0)\n",
            "Requirement already satisfied: zopfli>=0.1.4 in /usr/local/lib/python3.11/dist-packages (from fonttools[woff]>=4.0.0->weasyprint<65,>=58.0->ydata-sdk->ydata-synthetic) (0.2.3.post1)\n",
            "Requirement already satisfied: appdirs~=1.4.3 in /usr/local/lib/python3.11/dist-packages (from fs~=2.2->fs_gcsfs==1.5.1->ydata-sdk->ydata-synthetic) (1.4.4)\n",
            "Requirement already satisfied: googleapis-common-protos<2.0.0,>=1.56.2 in /usr/local/lib/python3.11/dist-packages (from google-api-core!=2.0.*,!=2.1.*,!=2.10.*,!=2.2.*,!=2.3.*,!=2.4.*,!=2.5.*,!=2.6.*,!=2.7.*,!=2.8.*,!=2.9.*,<3.0.0dev,>=1.34.0->google-api-core[grpc]!=2.0.*,!=2.1.*,!=2.10.*,!=2.2.*,!=2.3.*,!=2.4.*,!=2.5.*,!=2.6.*,!=2.7.*,!=2.8.*,!=2.9.*,<3.0.0dev,>=1.34.0->google-cloud-bigquery-storage==2.27.0->ydata-sdk->ydata-synthetic) (1.70.0)\n",
            "Requirement already satisfied: grpcio<2.0.0,>=1.33.2 in /usr/local/lib/python3.11/dist-packages (from google-api-core[grpc]!=2.0.*,!=2.1.*,!=2.10.*,!=2.2.*,!=2.3.*,!=2.4.*,!=2.5.*,!=2.6.*,!=2.7.*,!=2.8.*,!=2.9.*,<3.0.0dev,>=1.34.0->google-cloud-bigquery-storage==2.27.0->ydata-sdk->ydata-synthetic) (1.74.0)\n",
            "Requirement already satisfied: grpcio-status<2.0.0,>=1.33.2 in /usr/local/lib/python3.11/dist-packages (from google-api-core[grpc]!=2.0.*,!=2.1.*,!=2.10.*,!=2.2.*,!=2.3.*,!=2.4.*,!=2.5.*,!=2.6.*,!=2.7.*,!=2.8.*,!=2.9.*,<3.0.0dev,>=1.34.0->google-cloud-bigquery-storage==2.27.0->ydata-sdk->ydata-synthetic) (1.71.2)\n",
            "Requirement already satisfied: cachetools<6.0,>=2.0.0 in /usr/local/lib/python3.11/dist-packages (from google-auth~=2.0->databricks-sdk==0.41.0->ydata-sdk->ydata-synthetic) (5.5.2)\n",
            "Requirement already satisfied: pyasn1-modules>=0.2.1 in /usr/local/lib/python3.11/dist-packages (from google-auth~=2.0->databricks-sdk==0.41.0->ydata-sdk->ydata-synthetic) (0.4.2)\n",
            "Requirement already satisfied: rsa<5,>=3.1.4 in /usr/local/lib/python3.11/dist-packages (from google-auth~=2.0->databricks-sdk==0.41.0->ydata-sdk->ydata-synthetic) (4.9.1)\n",
            "Requirement already satisfied: requests-oauthlib>=0.7.0 in /usr/local/lib/python3.11/dist-packages (from google-auth-oauthlib->gcsfs==2024.12.*->ydata-sdk->ydata-synthetic) (2.0.0)\n",
            "Requirement already satisfied: zipp>=3.20 in /usr/local/lib/python3.11/dist-packages (from importlib_metadata>=4.13.0->dask==2024.12.1->ydata-sdk->ydata-synthetic) (3.23.0)\n",
            "Requirement already satisfied: jedi>=0.16 in /usr/local/lib/python3.11/dist-packages (from ipython>=6.1.0->ipywidgets<9.0.0,>=8.0.0->ydata-sdk->ydata-synthetic) (0.19.2)\n",
            "Requirement already satisfied: pickleshare in /usr/local/lib/python3.11/dist-packages (from ipython>=6.1.0->ipywidgets<9.0.0,>=8.0.0->ydata-sdk->ydata-synthetic) (0.7.5)\n",
            "Requirement already satisfied: prompt-toolkit!=3.0.0,!=3.0.1,<3.1.0,>=2.0.0 in /usr/local/lib/python3.11/dist-packages (from ipython>=6.1.0->ipywidgets<9.0.0,>=8.0.0->ydata-sdk->ydata-synthetic) (3.0.51)\n",
            "Requirement already satisfied: pygments in /usr/local/lib/python3.11/dist-packages (from ipython>=6.1.0->ipywidgets<9.0.0,>=8.0.0->ydata-sdk->ydata-synthetic) (2.19.2)\n",
            "Requirement already satisfied: backcall in /usr/local/lib/python3.11/dist-packages (from ipython>=6.1.0->ipywidgets<9.0.0,>=8.0.0->ydata-sdk->ydata-synthetic) (0.2.0)\n",
            "Requirement already satisfied: matplotlib-inline in /usr/local/lib/python3.11/dist-packages (from ipython>=6.1.0->ipywidgets<9.0.0,>=8.0.0->ydata-sdk->ydata-synthetic) (0.1.7)\n",
            "Requirement already satisfied: pexpect>4.3 in /usr/local/lib/python3.11/dist-packages (from ipython>=6.1.0->ipywidgets<9.0.0,>=8.0.0->ydata-sdk->ydata-synthetic) (4.9.0)\n",
            "Requirement already satisfied: MarkupSafe>=2.0 in /usr/local/lib/python3.11/dist-packages (from jinja2>=2.10.3->distributed==2024.12.1->ydata-sdk->ydata-synthetic) (3.0.2)\n",
            "Requirement already satisfied: contourpy>=1.0.1 in /usr/local/lib/python3.11/dist-packages (from matplotlib!=3.6.1,>=3.4->seaborn==0.13.*->ydata-sdk->ydata-synthetic) (1.3.2)\n",
            "Requirement already satisfied: cycler>=0.10 in /usr/local/lib/python3.11/dist-packages (from matplotlib!=3.6.1,>=3.4->seaborn==0.13.*->ydata-sdk->ydata-synthetic) (0.12.1)\n",
            "Requirement already satisfied: kiwisolver>=1.3.1 in /usr/local/lib/python3.11/dist-packages (from matplotlib!=3.6.1,>=3.4->seaborn==0.13.*->ydata-sdk->ydata-synthetic) (1.4.8)\n",
            "Requirement already satisfied: pyparsing>=2.3.1 in /usr/local/lib/python3.11/dist-packages (from matplotlib!=3.6.1,>=3.4->seaborn==0.13.*->ydata-sdk->ydata-synthetic) (3.2.3)\n",
            "Requirement already satisfied: llvmlite<0.44,>=0.43.0dev0 in /usr/local/lib/python3.11/dist-packages (from numba>=0.51->pyod>=2.0.0->ydata-sdk->ydata-synthetic) (0.43.0)\n",
            "Requirement already satisfied: spacy-legacy<3.1.0,>=3.0.11 in /usr/local/lib/python3.11/dist-packages (from spacy!=3.7.0,<4.0.0,>=3.4.4->presidio_analyzer==2.2.*->ydata-sdk->ydata-synthetic) (3.0.12)\n",
            "Requirement already satisfied: spacy-loggers<2.0.0,>=1.0.0 in /usr/local/lib/python3.11/dist-packages (from spacy!=3.7.0,<4.0.0,>=3.4.4->presidio_analyzer==2.2.*->ydata-sdk->ydata-synthetic) (1.0.5)\n",
            "Requirement already satisfied: murmurhash<1.1.0,>=0.28.0 in /usr/local/lib/python3.11/dist-packages (from spacy!=3.7.0,<4.0.0,>=3.4.4->presidio_analyzer==2.2.*->ydata-sdk->ydata-synthetic) (1.0.13)\n",
            "Requirement already satisfied: cymem<2.1.0,>=2.0.2 in /usr/local/lib/python3.11/dist-packages (from spacy!=3.7.0,<4.0.0,>=3.4.4->presidio_analyzer==2.2.*->ydata-sdk->ydata-synthetic) (2.0.11)\n",
            "Requirement already satisfied: preshed<3.1.0,>=3.0.2 in /usr/local/lib/python3.11/dist-packages (from spacy!=3.7.0,<4.0.0,>=3.4.4->presidio_analyzer==2.2.*->ydata-sdk->ydata-synthetic) (3.0.10)\n",
            "Requirement already satisfied: thinc<8.4.0,>=8.3.4 in /usr/local/lib/python3.11/dist-packages (from spacy!=3.7.0,<4.0.0,>=3.4.4->presidio_analyzer==2.2.*->ydata-sdk->ydata-synthetic) (8.3.6)\n",
            "Requirement already satisfied: wasabi<1.2.0,>=0.9.1 in /usr/local/lib/python3.11/dist-packages (from spacy!=3.7.0,<4.0.0,>=3.4.4->presidio_analyzer==2.2.*->ydata-sdk->ydata-synthetic) (1.1.3)\n",
            "Requirement already satisfied: srsly<3.0.0,>=2.4.3 in /usr/local/lib/python3.11/dist-packages (from spacy!=3.7.0,<4.0.0,>=3.4.4->presidio_analyzer==2.2.*->ydata-sdk->ydata-synthetic) (2.5.1)\n",
            "Requirement already satisfied: catalogue<2.1.0,>=2.0.6 in /usr/local/lib/python3.11/dist-packages (from spacy!=3.7.0,<4.0.0,>=3.4.4->presidio_analyzer==2.2.*->ydata-sdk->ydata-synthetic) (2.0.10)\n",
            "Requirement already satisfied: weasel<0.5.0,>=0.1.0 in /usr/local/lib/python3.11/dist-packages (from spacy!=3.7.0,<4.0.0,>=3.4.4->presidio_analyzer==2.2.*->ydata-sdk->ydata-synthetic) (0.4.1)\n",
            "Requirement already satisfied: typer<1.0.0,>=0.3.0 in /usr/local/lib/python3.11/dist-packages (from spacy!=3.7.0,<4.0.0,>=3.4.4->presidio_analyzer==2.2.*->ydata-sdk->ydata-synthetic) (0.16.0)\n",
            "Requirement already satisfied: langcodes<4.0.0,>=3.2.0 in /usr/local/lib/python3.11/dist-packages (from spacy!=3.7.0,<4.0.0,>=3.4.4->presidio_analyzer==2.2.*->ydata-sdk->ydata-synthetic) (3.5.0)\n",
            "Requirement already satisfied: msal-extensions>=1.2.0 in /usr/local/lib/python3.11/dist-packages (from azure-identity->adlfs==2024.12.0->ydata-sdk->ydata-synthetic) (1.3.1)\n",
            "Requirement already satisfied: soupsieve>1.2 in /usr/local/lib/python3.11/dist-packages (from beautifulsoup4->pdf_reports>=0.3.5->ydata-sdk->ydata-synthetic) (2.7)\n",
            "Requirement already satisfied: requests-file>=1.4 in /usr/local/lib/python3.11/dist-packages (from tldextract->presidio_analyzer==2.2.*->ydata-sdk->ydata-synthetic) (2.1.0)\n",
            "Requirement already satisfied: parso<0.9.0,>=0.8.4 in /usr/local/lib/python3.11/dist-packages (from jedi>=0.16->ipython>=6.1.0->ipywidgets<9.0.0,>=8.0.0->ydata-sdk->ydata-synthetic) (0.8.4)\n",
            "Requirement already satisfied: language-data>=1.2 in /usr/local/lib/python3.11/dist-packages (from langcodes<4.0.0,>=3.2.0->spacy!=3.7.0,<4.0.0,>=3.4.4->presidio_analyzer==2.2.*->ydata-sdk->ydata-synthetic) (1.3.0)\n",
            "Requirement already satisfied: ptyprocess>=0.5 in /usr/local/lib/python3.11/dist-packages (from pexpect>4.3->ipython>=6.1.0->ipywidgets<9.0.0,>=8.0.0->ydata-sdk->ydata-synthetic) (0.7.0)\n",
            "Requirement already satisfied: wcwidth in /usr/local/lib/python3.11/dist-packages (from prompt-toolkit!=3.0.0,!=3.0.1,<3.1.0,>=2.0.0->ipython>=6.1.0->ipywidgets<9.0.0,>=8.0.0->ydata-sdk->ydata-synthetic) (0.2.13)\n",
            "Requirement already satisfied: pyasn1<0.7.0,>=0.6.1 in /usr/local/lib/python3.11/dist-packages (from pyasn1-modules>=0.2.1->google-auth~=2.0->databricks-sdk==0.41.0->ydata-sdk->ydata-synthetic) (0.6.1)\n",
            "Requirement already satisfied: blis<1.4.0,>=1.3.0 in /usr/local/lib/python3.11/dist-packages (from thinc<8.4.0,>=8.3.4->spacy!=3.7.0,<4.0.0,>=3.4.4->presidio_analyzer==2.2.*->ydata-sdk->ydata-synthetic) (1.3.0)\n",
            "Requirement already satisfied: confection<1.0.0,>=0.0.1 in /usr/local/lib/python3.11/dist-packages (from thinc<8.4.0,>=8.3.4->spacy!=3.7.0,<4.0.0,>=3.4.4->presidio_analyzer==2.2.*->ydata-sdk->ydata-synthetic) (0.1.5)\n",
            "Requirement already satisfied: shellingham>=1.3.0 in /usr/local/lib/python3.11/dist-packages (from typer<1.0.0,>=0.3.0->spacy!=3.7.0,<4.0.0,>=3.4.4->presidio_analyzer==2.2.*->ydata-sdk->ydata-synthetic) (1.5.4)\n",
            "Requirement already satisfied: rich>=10.11.0 in /usr/local/lib/python3.11/dist-packages (from typer<1.0.0,>=0.3.0->spacy!=3.7.0,<4.0.0,>=3.4.4->presidio_analyzer==2.2.*->ydata-sdk->ydata-synthetic) (13.9.4)\n",
            "Requirement already satisfied: cloudpathlib<1.0.0,>=0.7.0 in /usr/local/lib/python3.11/dist-packages (from weasel<0.5.0,>=0.1.0->spacy!=3.7.0,<4.0.0,>=3.4.4->presidio_analyzer==2.2.*->ydata-sdk->ydata-synthetic) (0.21.1)\n",
            "Requirement already satisfied: smart-open<8.0.0,>=5.2.1 in /usr/local/lib/python3.11/dist-packages (from weasel<0.5.0,>=0.1.0->spacy!=3.7.0,<4.0.0,>=3.4.4->presidio_analyzer==2.2.*->ydata-sdk->ydata-synthetic) (7.3.0.post1)\n",
            "Requirement already satisfied: marisa-trie>=1.1.0 in /usr/local/lib/python3.11/dist-packages (from language-data>=1.2->langcodes<4.0.0,>=3.2.0->spacy!=3.7.0,<4.0.0,>=3.4.4->presidio_analyzer==2.2.*->ydata-sdk->ydata-synthetic) (1.2.1)\n",
            "Requirement already satisfied: markdown-it-py>=2.2.0 in /usr/local/lib/python3.11/dist-packages (from rich>=10.11.0->typer<1.0.0,>=0.3.0->spacy!=3.7.0,<4.0.0,>=3.4.4->presidio_analyzer==2.2.*->ydata-sdk->ydata-synthetic) (3.0.0)\n",
            "Requirement already satisfied: mdurl~=0.1 in /usr/local/lib/python3.11/dist-packages (from markdown-it-py>=2.2.0->rich>=10.11.0->typer<1.0.0,>=0.3.0->spacy!=3.7.0,<4.0.0,>=3.4.4->presidio_analyzer==2.2.*->ydata-sdk->ydata-synthetic) (0.1.2)\n"
          ]
        }
      ]
    },
    {
      "cell_type": "code",
      "source": [
        "pip show ydata-synthetic"
      ],
      "metadata": {
        "colab": {
          "base_uri": "https://localhost:8080/"
        },
        "id": "EiPM7-tjsXKH",
        "outputId": "65eb228a-508c-4d04-ae48-f7a9369ea974"
      },
      "execution_count": 54,
      "outputs": [
        {
          "output_type": "stream",
          "name": "stdout",
          "text": [
            "Name: ydata-synthetic\n",
            "Version: 2.0.0\n",
            "Summary: Synthetic data generation methods with different synthetization methods.\n",
            "Home-page: https://github.com/ydataai/ydata-synthetic\n",
            "Author: YData\n",
            "Author-email: community@ydata.ai\n",
            "License: https://github.com/ydataai/ydata-synthetic/blob/master/LICENSE\n",
            "Location: /usr/local/lib/python3.11/dist-packages\n",
            "Requires: ydata-sdk\n",
            "Required-by: \n"
          ]
        }
      ]
    },
    {
      "cell_type": "code",
      "source": [
        "from ydata_synthetic.synthesizers import ModelParameters, TrainParameters\n",
        "from ydata_synthetic.synthesizers.timeseries import TimeSeriesSynthesizer\n",
        "\n",
        "# Usage:\n",
        "synth = TimeSeriesSynthesizer(modelname='timegan', model_parameters=gan_args)"
      ],
      "metadata": {
        "colab": {
          "base_uri": "https://localhost:8080/",
          "height": 400
        },
        "id": "bLvSBSWMsjUW",
        "outputId": "155fb95f-8515-4259-b4dd-764681677333"
      },
      "execution_count": 55,
      "outputs": [
        {
          "output_type": "error",
          "ename": "ImportError",
          "evalue": "cannot import name 'ModelParameters' from 'ydata_synthetic.synthesizers' (/usr/local/lib/python3.11/dist-packages/ydata_synthetic/synthesizers/__init__.py)",
          "traceback": [
            "\u001b[0;31m---------------------------------------------------------------------------\u001b[0m",
            "\u001b[0;31mImportError\u001b[0m                               Traceback (most recent call last)",
            "\u001b[0;32m/tmp/ipython-input-1234715378.py\u001b[0m in \u001b[0;36m<cell line: 0>\u001b[0;34m()\u001b[0m\n\u001b[0;32m----> 1\u001b[0;31m \u001b[0;32mfrom\u001b[0m \u001b[0mydata_synthetic\u001b[0m\u001b[0;34m.\u001b[0m\u001b[0msynthesizers\u001b[0m \u001b[0;32mimport\u001b[0m \u001b[0mModelParameters\u001b[0m\u001b[0;34m,\u001b[0m \u001b[0mTrainParameters\u001b[0m\u001b[0;34m\u001b[0m\u001b[0;34m\u001b[0m\u001b[0m\n\u001b[0m\u001b[1;32m      2\u001b[0m \u001b[0;32mfrom\u001b[0m \u001b[0mydata_synthetic\u001b[0m\u001b[0;34m.\u001b[0m\u001b[0msynthesizers\u001b[0m\u001b[0;34m.\u001b[0m\u001b[0mtimeseries\u001b[0m \u001b[0;32mimport\u001b[0m \u001b[0mTimeSeriesSynthesizer\u001b[0m\u001b[0;34m\u001b[0m\u001b[0;34m\u001b[0m\u001b[0m\n\u001b[1;32m      3\u001b[0m \u001b[0;34m\u001b[0m\u001b[0m\n\u001b[1;32m      4\u001b[0m \u001b[0;31m# Usage:\u001b[0m\u001b[0;34m\u001b[0m\u001b[0;34m\u001b[0m\u001b[0m\n\u001b[1;32m      5\u001b[0m \u001b[0msynth\u001b[0m \u001b[0;34m=\u001b[0m \u001b[0mTimeSeriesSynthesizer\u001b[0m\u001b[0;34m(\u001b[0m\u001b[0mmodelname\u001b[0m\u001b[0;34m=\u001b[0m\u001b[0;34m'timegan'\u001b[0m\u001b[0;34m,\u001b[0m \u001b[0mmodel_parameters\u001b[0m\u001b[0;34m=\u001b[0m\u001b[0mgan_args\u001b[0m\u001b[0;34m)\u001b[0m\u001b[0;34m\u001b[0m\u001b[0;34m\u001b[0m\u001b[0m\n",
            "\u001b[0;31mImportError\u001b[0m: cannot import name 'ModelParameters' from 'ydata_synthetic.synthesizers' (/usr/local/lib/python3.11/dist-packages/ydata_synthetic/synthesizers/__init__.py)",
            "",
            "\u001b[0;31m---------------------------------------------------------------------------\u001b[0;32m\nNOTE: If your import is failing due to a missing package, you can\nmanually install dependencies using either !pip or !apt.\n\nTo view examples of installing some common dependencies, click the\n\"Open Examples\" button below.\n\u001b[0;31m---------------------------------------------------------------------------\u001b[0m\n"
          ],
          "errorDetails": {
            "actions": [
              {
                "action": "open_url",
                "actionText": "Open Examples",
                "url": "/notebooks/snippets/importing_libraries.ipynb"
              }
            ]
          }
        }
      ]
    },
    {
      "cell_type": "code",
      "source": [
        "from ydata_synthetic.synthesizers.timeseries.timegan.model import TimeGAN"
      ],
      "metadata": {
        "id": "pKhu_xIvFKjy"
      },
      "execution_count": 45,
      "outputs": []
    },
    {
      "cell_type": "code",
      "source": [
        "from ydata_synthetic.synthesizers.timeseries.timegan.model import TimeGAN\n",
        "from ydata_synthetic.synthesizers.timeseries import TimeSeriesSynthesizer\n",
        "\n",
        "def generate_noisy_synthetic_data(plant_paths, seq_len=60, stride=10, noise_level=0.1, snr_db=15):\n",
        "  synthetic_datasets = {}\n",
        "  # Define TimeGAN model parameters\n",
        "  model_parameters = {\n",
        "      'hidden_dim': 128, # Assuming layers_dim corresponds to hidden_dim\n",
        "      'layers_dim': 128,\n",
        "      'noise_dim': 32\n",
        "  }\n",
        "\n",
        "  # Define TimeGAN training parameters\n",
        "  gan_args = {\n",
        "      'batch_size': 32,\n",
        "      'lr': 5e-4,\n",
        "  }\n",
        "\n",
        "  train_args = {\n",
        "      'epochs': 100,\n",
        "      'sequence_length': seq_len,\n",
        "      'number_sequences': 2\n",
        "  }\n",
        "\n",
        "  # Define log parameters (adjust if needed based on library usage)\n",
        "  log_parameters = {\n",
        "      'sample_every': 10,\n",
        "      'log_every': 10\n",
        "  }\n",
        "\n",
        "\n",
        "  for plant, path in plant_paths.items():\n",
        "    print(f\"Processing {plant} data\")\n",
        "    df = pd.read_csv(path)\n",
        "    input_seqs = []\n",
        "    clean_Tr = []\n",
        "\n",
        "    for _, row in df.iterrows():\n",
        "      LAI = pd.to_numeric(row[1:1441]) * 1000\n",
        "      ETr = pd.to_numeric(row[1441:2881])\n",
        "      Tr = pd.to_numeric(row[2881:4321])\n",
        "\n",
        "      for start in range(0, len(LAI)-seq_len+1, stride):\n",
        "        end = start + seq_len\n",
        "        X = np.stack([LAI[start:end], ETr[start:end]], axis=1)\n",
        "        input_seqs.append(X)\n",
        "        clean_Tr.append(Tr[start:end])  # Store clean Tr\n",
        "\n",
        "    X_original = np.array(input_seqs, dtype=np.float32)\n",
        "\n",
        "    # Corrected initialization and training of TimeGAN\n",
        "    # Instantiate the TimeGAN model\n",
        "    timegan_model = TimeGAN(model_parameters=model_parameters, log_parameters=log_parameters, **gan_args)\n",
        "\n",
        "    # Instantiate the TimeSeriesSynthesizer with the TimeGAN model\n",
        "    synth = TimeSeriesSynthesizer(timegan_model=timegan_model)\n",
        "\n",
        "    # Train the synthesizer\n",
        "    synth.train(X_original, train_args)\n",
        "\n",
        "\n",
        "    synthetic_X = synth.sample(len(X_original))\n",
        "\n",
        "    def add_snr_noise(data, target_snr_db):\n",
        "        snr = 10 ** (target_snr_db / 10)\n",
        "        noise_power = np.var(data) / snr\n",
        "        noise = np.random.normal(0, np.sqrt(noise_power), data.shape)\n",
        "        return data + noise\n",
        "\n",
        "    synthetic_X_noisy = np.zeros_like(synthetic_X)\n",
        "    for i in range(synthetic_X.shape[0]):\n",
        "        for j in range(synthetic_X.shape[2]):\n",
        "            synthetic_X_noisy[i,:,j] = add_snr_noise(synthetic_X[i,:,j], snr_db)\n",
        "\n",
        "    synthetic_datasets[plant] = (synthetic_X_noisy, np.array(clean_Tr))\n",
        "\n",
        "    np.savez(f'synthetic_noisy_{plant}.npz',\n",
        "            X=synthetic_X_noisy,\n",
        "            Y=np.array(clean_Tr), # Original clean Tr\n",
        "\n",
        "            original_X=X_original)\n",
        "\n",
        "    print(f\"Generated {len(synthetic_X_noisy)} noisy synthetic samples for {plant}\")\n",
        "\n",
        "  return synthetic_datasets"
      ],
      "metadata": {
        "colab": {
          "base_uri": "https://localhost:8080/",
          "height": 400
        },
        "id": "MOW11JK7lI2r",
        "outputId": "8ee4b9b4-471d-47f1-d7c2-a788bb71159a"
      },
      "execution_count": 52,
      "outputs": [
        {
          "output_type": "error",
          "ename": "ImportError",
          "evalue": "cannot import name 'TimeSeriesSynthesizer' from 'ydata_synthetic.synthesizers.timeseries' (/usr/local/lib/python3.11/dist-packages/ydata_synthetic/synthesizers/timeseries/__init__.py)",
          "traceback": [
            "\u001b[0;31m---------------------------------------------------------------------------\u001b[0m",
            "\u001b[0;31mImportError\u001b[0m                               Traceback (most recent call last)",
            "\u001b[0;32m/tmp/ipython-input-4151279298.py\u001b[0m in \u001b[0;36m<cell line: 0>\u001b[0;34m()\u001b[0m\n\u001b[1;32m      1\u001b[0m \u001b[0;32mfrom\u001b[0m \u001b[0mydata_synthetic\u001b[0m\u001b[0;34m.\u001b[0m\u001b[0msynthesizers\u001b[0m\u001b[0;34m.\u001b[0m\u001b[0mtimeseries\u001b[0m\u001b[0;34m.\u001b[0m\u001b[0mtimegan\u001b[0m\u001b[0;34m.\u001b[0m\u001b[0mmodel\u001b[0m \u001b[0;32mimport\u001b[0m \u001b[0mTimeGAN\u001b[0m\u001b[0;34m\u001b[0m\u001b[0;34m\u001b[0m\u001b[0m\n\u001b[0;32m----> 2\u001b[0;31m \u001b[0;32mfrom\u001b[0m \u001b[0mydata_synthetic\u001b[0m\u001b[0;34m.\u001b[0m\u001b[0msynthesizers\u001b[0m\u001b[0;34m.\u001b[0m\u001b[0mtimeseries\u001b[0m \u001b[0;32mimport\u001b[0m \u001b[0mTimeSeriesSynthesizer\u001b[0m\u001b[0;34m\u001b[0m\u001b[0;34m\u001b[0m\u001b[0m\n\u001b[0m\u001b[1;32m      3\u001b[0m \u001b[0;34m\u001b[0m\u001b[0m\n\u001b[1;32m      4\u001b[0m \u001b[0;32mdef\u001b[0m \u001b[0mgenerate_noisy_synthetic_data\u001b[0m\u001b[0;34m(\u001b[0m\u001b[0mplant_paths\u001b[0m\u001b[0;34m,\u001b[0m \u001b[0mseq_len\u001b[0m\u001b[0;34m=\u001b[0m\u001b[0;36m60\u001b[0m\u001b[0;34m,\u001b[0m \u001b[0mstride\u001b[0m\u001b[0;34m=\u001b[0m\u001b[0;36m10\u001b[0m\u001b[0;34m,\u001b[0m \u001b[0mnoise_level\u001b[0m\u001b[0;34m=\u001b[0m\u001b[0;36m0.1\u001b[0m\u001b[0;34m,\u001b[0m \u001b[0msnr_db\u001b[0m\u001b[0;34m=\u001b[0m\u001b[0;36m15\u001b[0m\u001b[0;34m)\u001b[0m\u001b[0;34m:\u001b[0m\u001b[0;34m\u001b[0m\u001b[0;34m\u001b[0m\u001b[0m\n\u001b[1;32m      5\u001b[0m   \u001b[0msynthetic_datasets\u001b[0m \u001b[0;34m=\u001b[0m \u001b[0;34m{\u001b[0m\u001b[0;34m}\u001b[0m\u001b[0;34m\u001b[0m\u001b[0;34m\u001b[0m\u001b[0m\n",
            "\u001b[0;31mImportError\u001b[0m: cannot import name 'TimeSeriesSynthesizer' from 'ydata_synthetic.synthesizers.timeseries' (/usr/local/lib/python3.11/dist-packages/ydata_synthetic/synthesizers/timeseries/__init__.py)",
            "",
            "\u001b[0;31m---------------------------------------------------------------------------\u001b[0;32m\nNOTE: If your import is failing due to a missing package, you can\nmanually install dependencies using either !pip or !apt.\n\nTo view examples of installing some common dependencies, click the\n\"Open Examples\" button below.\n\u001b[0;31m---------------------------------------------------------------------------\u001b[0m\n"
          ],
          "errorDetails": {
            "actions": [
              {
                "action": "open_url",
                "actionText": "Open Examples",
                "url": "/notebooks/snippets/importing_libraries.ipynb"
              }
            ]
          }
        }
      ]
    },
    {
      "cell_type": "code",
      "source": [
        "from ydata_synthetic.synthesizers.timeseries import TimeSeriesSynthesizer"
      ],
      "metadata": {
        "colab": {
          "base_uri": "https://localhost:8080/",
          "height": 327
        },
        "id": "CstoRbX4sC2h",
        "outputId": "5d02022e-6f81-4e68-d12b-9cd64ed80fc3"
      },
      "execution_count": 53,
      "outputs": [
        {
          "output_type": "error",
          "ename": "ImportError",
          "evalue": "cannot import name 'TimeSeriesSynthesizer' from 'ydata_synthetic.synthesizers.timeseries' (/usr/local/lib/python3.11/dist-packages/ydata_synthetic/synthesizers/timeseries/__init__.py)",
          "traceback": [
            "\u001b[0;31m---------------------------------------------------------------------------\u001b[0m",
            "\u001b[0;31mImportError\u001b[0m                               Traceback (most recent call last)",
            "\u001b[0;32m/tmp/ipython-input-1398424636.py\u001b[0m in \u001b[0;36m<cell line: 0>\u001b[0;34m()\u001b[0m\n\u001b[0;32m----> 1\u001b[0;31m \u001b[0;32mfrom\u001b[0m \u001b[0mydata_synthetic\u001b[0m\u001b[0;34m.\u001b[0m\u001b[0msynthesizers\u001b[0m\u001b[0;34m.\u001b[0m\u001b[0mtimeseries\u001b[0m \u001b[0;32mimport\u001b[0m \u001b[0mTimeSeriesSynthesizer\u001b[0m\u001b[0;34m\u001b[0m\u001b[0;34m\u001b[0m\u001b[0m\n\u001b[0m",
            "\u001b[0;31mImportError\u001b[0m: cannot import name 'TimeSeriesSynthesizer' from 'ydata_synthetic.synthesizers.timeseries' (/usr/local/lib/python3.11/dist-packages/ydata_synthetic/synthesizers/timeseries/__init__.py)",
            "",
            "\u001b[0;31m---------------------------------------------------------------------------\u001b[0;32m\nNOTE: If your import is failing due to a missing package, you can\nmanually install dependencies using either !pip or !apt.\n\nTo view examples of installing some common dependencies, click the\n\"Open Examples\" button below.\n\u001b[0;31m---------------------------------------------------------------------------\u001b[0m\n"
          ],
          "errorDetails": {
            "actions": [
              {
                "action": "open_url",
                "actionText": "Open Examples",
                "url": "/notebooks/snippets/importing_libraries.ipynb"
              }
            ]
          }
        }
      ]
    },
    {
      "cell_type": "code",
      "source": [
        "synthetic_data = generate_noisy_synthetic_data(\n",
        "    plant_paths,\n",
        "    seq_len=60,\n",
        "    stride=10,\n",
        "    snr_db=10\n",
        ")"
      ],
      "metadata": {
        "colab": {
          "base_uri": "https://localhost:8080/",
          "height": 422
        },
        "id": "mUiKWbdJi2Fr",
        "outputId": "cdffecf8-82e2-42c1-de42-fcc5a4e17534"
      },
      "execution_count": 51,
      "outputs": [
        {
          "output_type": "stream",
          "name": "stdout",
          "text": [
            "Processing MZ data\n"
          ]
        },
        {
          "output_type": "stream",
          "name": "stderr",
          "text": [
            "/tmp/ipython-input-985991393.py:51: DeprecationWarning: TimeGAN is deprecated. Please leverage ydata-sdk **RegularSynthesizer** or **TimeSeriesSynthesizer** instead. For more information, check ydata-sdk documentation:  https://docs.fabric.ydata.ai/latest/sdk/examples/.\n",
            "  synth = TimeGAN(model_parameters=model_parameters, log_parameters=log_parameters, **gan_args)\n"
          ]
        },
        {
          "output_type": "error",
          "ename": "AttributeError",
          "evalue": "'TimeGAN' object has no attribute 'train'",
          "traceback": [
            "\u001b[0;31m---------------------------------------------------------------------------\u001b[0m",
            "\u001b[0;31mAttributeError\u001b[0m                            Traceback (most recent call last)",
            "\u001b[0;32m/tmp/ipython-input-3794764704.py\u001b[0m in \u001b[0;36m<cell line: 0>\u001b[0;34m()\u001b[0m\n\u001b[0;32m----> 1\u001b[0;31m synthetic_data = generate_noisy_synthetic_data(\n\u001b[0m\u001b[1;32m      2\u001b[0m     \u001b[0mplant_paths\u001b[0m\u001b[0;34m,\u001b[0m\u001b[0;34m\u001b[0m\u001b[0;34m\u001b[0m\u001b[0m\n\u001b[1;32m      3\u001b[0m     \u001b[0mseq_len\u001b[0m\u001b[0;34m=\u001b[0m\u001b[0;36m60\u001b[0m\u001b[0;34m,\u001b[0m\u001b[0;34m\u001b[0m\u001b[0;34m\u001b[0m\u001b[0m\n\u001b[1;32m      4\u001b[0m     \u001b[0mstride\u001b[0m\u001b[0;34m=\u001b[0m\u001b[0;36m10\u001b[0m\u001b[0;34m,\u001b[0m\u001b[0;34m\u001b[0m\u001b[0;34m\u001b[0m\u001b[0m\n\u001b[1;32m      5\u001b[0m     \u001b[0msnr_db\u001b[0m\u001b[0;34m=\u001b[0m\u001b[0;36m10\u001b[0m\u001b[0;34m\u001b[0m\u001b[0;34m\u001b[0m\u001b[0m\n",
            "\u001b[0;32m/tmp/ipython-input-985991393.py\u001b[0m in \u001b[0;36mgenerate_noisy_synthetic_data\u001b[0;34m(plant_paths, seq_len, stride, noise_level, snr_db)\u001b[0m\n\u001b[1;32m     50\u001b[0m     \u001b[0;31m# Corrected initialization and training of TimeGAN\u001b[0m\u001b[0;34m\u001b[0m\u001b[0;34m\u001b[0m\u001b[0m\n\u001b[1;32m     51\u001b[0m     \u001b[0msynth\u001b[0m \u001b[0;34m=\u001b[0m \u001b[0mTimeGAN\u001b[0m\u001b[0;34m(\u001b[0m\u001b[0mmodel_parameters\u001b[0m\u001b[0;34m=\u001b[0m\u001b[0mmodel_parameters\u001b[0m\u001b[0;34m,\u001b[0m \u001b[0mlog_parameters\u001b[0m\u001b[0;34m=\u001b[0m\u001b[0mlog_parameters\u001b[0m\u001b[0;34m,\u001b[0m \u001b[0;34m**\u001b[0m\u001b[0mgan_args\u001b[0m\u001b[0;34m)\u001b[0m\u001b[0;34m\u001b[0m\u001b[0;34m\u001b[0m\u001b[0m\n\u001b[0;32m---> 52\u001b[0;31m     \u001b[0msynth\u001b[0m\u001b[0;34m.\u001b[0m\u001b[0mtrain\u001b[0m\u001b[0;34m(\u001b[0m\u001b[0mX_original\u001b[0m\u001b[0;34m,\u001b[0m \u001b[0mtrain_args\u001b[0m\u001b[0;34m)\u001b[0m\u001b[0;34m\u001b[0m\u001b[0;34m\u001b[0m\u001b[0m\n\u001b[0m\u001b[1;32m     53\u001b[0m \u001b[0;34m\u001b[0m\u001b[0m\n\u001b[1;32m     54\u001b[0m     \u001b[0msynthetic_X\u001b[0m \u001b[0;34m=\u001b[0m \u001b[0msynth\u001b[0m\u001b[0;34m.\u001b[0m\u001b[0msample\u001b[0m\u001b[0;34m(\u001b[0m\u001b[0mlen\u001b[0m\u001b[0;34m(\u001b[0m\u001b[0mX_original\u001b[0m\u001b[0;34m)\u001b[0m\u001b[0;34m)\u001b[0m\u001b[0;34m\u001b[0m\u001b[0;34m\u001b[0m\u001b[0m\n",
            "\u001b[0;31mAttributeError\u001b[0m: 'TimeGAN' object has no attribute 'train'"
          ]
        }
      ]
    }
  ]
}